{
  "cells": [
    {
      "cell_type": "markdown",
      "metadata": {
        "id": "view-in-github",
        "colab_type": "text"
      },
      "source": [
        "<a href=\"https://colab.research.google.com/github/keyoumao/portfolio/blob/master/week1_homework_ksmao.ipynb\" target=\"_parent\"><img src=\"https://colab.research.google.com/assets/colab-badge.svg\" alt=\"Open In Colab\"/></a>"
      ]
    },
    {
      "cell_type": "markdown",
      "metadata": {
        "id": "xmuPBO9vwLG3"
      },
      "source": [
        "Leetcode 167"
      ]
    },
    {
      "cell_type": "code",
      "execution_count": null,
      "metadata": {
        "id": "_BQUk1qGwLG5"
      },
      "outputs": [],
      "source": [
        "class Solution167:\n",
        "    def twoSumII(self, numbers, target):\n",
        "\n",
        "        \"\"\"\n",
        "        :type numbers: List[int]\n",
        "        :type target: int\n",
        "        :rtype: List[int]\n",
        "        \"\"\"\n",
        "        #build the lookup hashmap as a dictionary,\n",
        "        dictionary = {}\n",
        "        for x,y in enumerate(numbers):\n",
        "            dictionary[y] = x\n",
        "        #start to look of elements\n",
        "        for i in range(len(numbers)):\n",
        "            if (target-numbers[i]) in dictionary:\n",
        "                tarI = dictionary[target-numbers[i]]\n",
        "                if i > tarI:\n",
        "                    return [tarI+1, i+1]\n",
        "                else:\n",
        "                    return [i+1, tarI+1]"
      ]
    },
    {
      "cell_type": "code",
      "source": [
        "p1= Solution167()\n",
        "output = p1.twoSumII([2,7,11,15], 9)\n",
        "output2 = p1.twoSumII([2,3,4], 6)\n",
        "output3 = p1.twoSumII([-1,0], -1)\n",
        "print(\"Output_1:\", output)\n",
        "print(\"Output_2:\", output2)\n",
        "print(\"Output_3:\", output3)"
      ],
      "metadata": {
        "colab": {
          "base_uri": "https://localhost:8080/"
        },
        "id": "Zwxzwl3xwi0w",
        "outputId": "c77fad12-b32c-4e67-868b-8dbfcbde02bc"
      },
      "execution_count": null,
      "outputs": [
        {
          "output_type": "stream",
          "name": "stdout",
          "text": [
            "Output_1: [1, 2]\n",
            "Output_2: [1, 3]\n",
            "Output_3: [1, 2]\n"
          ]
        }
      ]
    },
    {
      "cell_type": "markdown",
      "metadata": {
        "id": "JIxRNVOvwLG5"
      },
      "source": [
        "Leetcode 219"
      ]
    },
    {
      "cell_type": "code",
      "execution_count": null,
      "metadata": {
        "id": "N-dkK_tMwLG5"
      },
      "outputs": [],
      "source": [
        "class Solution219:\n",
        "    def containsNearbyDuplicate(self, nums, k) -> bool:\n",
        "        \"\"\"\n",
        "        :type nums: List[int]\n",
        "        :type k: int\n",
        "        :rtype: bool\n",
        "        \"\"\"\n",
        "        if not nums:\n",
        "            return False\n",
        "        hashmap = {}\n",
        "        for i, v in enumerate(nums):\n",
        "            if v not in hashmap:\n",
        "                hashmap[v] = i\n",
        "            elif v in hashmap and abs(i-hashmap[v]) <= k:\n",
        "                return True\n",
        "            else:\n",
        "            #if the value is in hashmap, we still need to update the index\n",
        "            #since we want the index difference as small as possible.\n",
        "                hashmap[v] = i\n",
        "                continue\n",
        "        return False"
      ]
    },
    {
      "cell_type": "code",
      "source": [
        "p2= Solution219()\n",
        "output1 = p2.containsNearbyDuplicate([1,2,3,1], 3)\n",
        "output2 = p2.containsNearbyDuplicate([1,0,1,1], 1)\n",
        "output3 = p2.containsNearbyDuplicate([1,2,3,1,2,3], 2)\n",
        "print(\"Output_1:\", output1)\n",
        "print(\"Output_2:\", output2)\n",
        "print(\"Output_3:\", output3)"
      ],
      "metadata": {
        "colab": {
          "base_uri": "https://localhost:8080/"
        },
        "id": "ER_jEqo4H_iz",
        "outputId": "778738db-dfcd-4fdf-dfb2-451539d2710a"
      },
      "execution_count": null,
      "outputs": [
        {
          "output_type": "stream",
          "name": "stdout",
          "text": [
            "Output_1: True\n",
            "Output_2: True\n",
            "Output_3: False\n"
          ]
        }
      ]
    },
    {
      "cell_type": "markdown",
      "metadata": {
        "id": "2ncCYpUIwLG5"
      },
      "source": [
        "Leetcode 242"
      ]
    },
    {
      "cell_type": "code",
      "execution_count": null,
      "metadata": {
        "id": "_kzbk-OWwLG5"
      },
      "outputs": [],
      "source": [
        "class Solution242:\n",
        "    def isAnagram(self, s: str, t: str) -> bool:\n",
        "        \"\"\"\n",
        "        :type s: str\n",
        "        :type t: str\n",
        "        :rtype: bool\n",
        "        \"\"\"\n",
        "        hashmap = {}\n",
        "        for e in s:\n",
        "            if e not in hashmap:\n",
        "                hashmap[e] = 1\n",
        "            else:\n",
        "                hashmap[e] += 1\n",
        "        for e in t:\n",
        "            if e not in hashmap:\n",
        "                return False\n",
        "            hashmap[e] -= 1\n",
        "        for key in hashmap:\n",
        "            if hashmap[key] != 0:\n",
        "                return False\n",
        "        return True"
      ]
    },
    {
      "cell_type": "code",
      "source": [
        "p3= Solution242()\n",
        "output1 = p3.isAnagram(\"anagram\", \"nagaram\")\n",
        "output2 = p3.isAnagram(\"rat\", \"car\")\n",
        "print(\"Output_1:\", output1)\n",
        "print(\"Output_2:\", output2)"
      ],
      "metadata": {
        "colab": {
          "base_uri": "https://localhost:8080/"
        },
        "id": "o_-XWI15LAPg",
        "outputId": "3a36d716-9ab5-4f23-d952-458fb96dcab9"
      },
      "execution_count": null,
      "outputs": [
        {
          "output_type": "stream",
          "name": "stdout",
          "text": [
            "Output_1: True\n",
            "Output_2: False\n"
          ]
        }
      ]
    },
    {
      "cell_type": "markdown",
      "metadata": {
        "id": "wIR0bupEwLG5"
      },
      "source": [
        "Leetcode 268"
      ]
    },
    {
      "cell_type": "code",
      "execution_count": null,
      "metadata": {
        "id": "DVqh7Vv9wLG5"
      },
      "outputs": [],
      "source": [
        "class Solution268:\n",
        "    def missingNumber(self, nums) -> int:\n",
        "        \"\"\"\n",
        "        :type nums: List[int]\n",
        "        :rtype: int\n",
        "        \"\"\"\n",
        "        s = set(nums)\n",
        "        for i in range(len(nums) + 1):\n",
        "            if i not in s:\n",
        "                return i"
      ]
    },
    {
      "cell_type": "code",
      "source": [
        "p4= Solution268()\n",
        "output1 = p4.missingNumber([3,0,1])\n",
        "output2 = p4.missingNumber([1,0])\n",
        "output3 = p4.missingNumber([9,6,4,2,3,5,7,0,1])\n",
        "print(\"Output_1:\", output1)\n",
        "print(\"Output_2:\", output2)\n",
        "print(\"Output_3:\", output3)"
      ],
      "metadata": {
        "colab": {
          "base_uri": "https://localhost:8080/"
        },
        "id": "s1lyJs4PMvgo",
        "outputId": "6c37c9ea-48ff-4816-f521-7340baf5cc95"
      },
      "execution_count": null,
      "outputs": [
        {
          "output_type": "stream",
          "name": "stdout",
          "text": [
            "Output_1: 2\n",
            "Output_2: 2\n",
            "Output_3: 8\n"
          ]
        }
      ]
    },
    {
      "cell_type": "markdown",
      "metadata": {
        "id": "WQgrrAv2wLG5"
      },
      "source": [
        "Leetcode 349"
      ]
    },
    {
      "cell_type": "code",
      "execution_count": null,
      "metadata": {
        "id": "xvaS1rLJwLG6"
      },
      "outputs": [],
      "source": [
        "from typing_extensions import LiteralString\n",
        "class Solution349:\n",
        "    def intersection(self, nums1, nums2) -> LiteralString:\n",
        "        \"\"\"\n",
        "        :type nums1: List[int]\n",
        "        :type nums2: List[int]\n",
        "        :rtype: List[int]\n",
        "        \"\"\"\n",
        "        set1 = {e for e in nums1}\n",
        "        set2 = {e for e in nums2}\n",
        "        return list(set1 & set2)"
      ]
    },
    {
      "cell_type": "code",
      "source": [
        "p5= Solution349()\n",
        "output1 = p5.intersection([1,2,2,1], [2,2])\n",
        "output2 = p5.intersection([4,9,5], [9,4,9,8,4])\n",
        "print(\"Output_1:\", output1)\n",
        "print(\"Output_2:\", output2)"
      ],
      "metadata": {
        "colab": {
          "base_uri": "https://localhost:8080/"
        },
        "id": "U06Ic_sJN4Kt",
        "outputId": "cc36b90c-b024-4a1a-9f3a-519d0f9a12ff"
      },
      "execution_count": null,
      "outputs": [
        {
          "output_type": "stream",
          "name": "stdout",
          "text": [
            "Output_1: [2]\n",
            "Output_2: [9, 4]\n"
          ]
        }
      ]
    },
    {
      "cell_type": "markdown",
      "metadata": {
        "id": "EC4El4xuwLG6"
      },
      "source": [
        "Leetcode 350"
      ]
    },
    {
      "cell_type": "code",
      "execution_count": null,
      "metadata": {
        "id": "RZPy-gilwLG6"
      },
      "outputs": [],
      "source": [
        "class Solution350:\n",
        "    def intersect(self, nums1, nums2) -> list:\n",
        "        counts = {}\n",
        "        res = []\n",
        "\n",
        "        for num in nums1:\n",
        "            counts[num] = counts.get(num, 0) + 1\n",
        "\n",
        "        for num in nums2:\n",
        "            if num in counts and counts[num] > 0:\n",
        "                res.append(num)\n",
        "                counts[num] -= 1\n",
        "\n",
        "        return res"
      ]
    },
    {
      "cell_type": "code",
      "source": [
        "p6= Solution350()\n",
        "output1 = p6.intersect([1,2,2,1], [2,2])\n",
        "output2 = p6.intersect([4,9,5], [9,4,9,8,4])\n",
        "print(\"Output_1:\", output1)\n",
        "print(\"Output_2:\", output2)"
      ],
      "metadata": {
        "colab": {
          "base_uri": "https://localhost:8080/"
        },
        "id": "W0wXvzTlPyUN",
        "outputId": "9783835d-a723-450d-d85a-d45987963afd"
      },
      "execution_count": null,
      "outputs": [
        {
          "output_type": "stream",
          "name": "stdout",
          "text": [
            "Output_1: [2, 2]\n",
            "Output_2: [9, 4]\n"
          ]
        }
      ]
    },
    {
      "cell_type": "markdown",
      "metadata": {
        "id": "eyNqvyqtwLG6"
      },
      "source": [
        "Leetcode 389"
      ]
    },
    {
      "cell_type": "code",
      "execution_count": null,
      "metadata": {
        "id": "rIuXVj7QwLG6"
      },
      "outputs": [],
      "source": [
        "class Solution389:\n",
        "    def findTheDifference(self, s, t):\n",
        "        \"\"\"\n",
        "        :type s: str\n",
        "        :type t: str\n",
        "        :rtype: str\n",
        "        \"\"\"\n",
        "        dictionary = {}\n",
        "        for a in s:\n",
        "            if a not in dictionary:\n",
        "                dictionary[a] = 1\n",
        "            else:\n",
        "                dictionary[a] +=1\n",
        "        for b in t:\n",
        "            if b not in dictionary:\n",
        "                return b\n",
        "            else:\n",
        "                dictionary[b] -=1\n",
        "                if dictionary[b] == -1:\n",
        "                    return b"
      ]
    },
    {
      "cell_type": "code",
      "source": [
        "p7= Solution389()\n",
        "output1 = p7.findTheDifference(\"abcd\",\"abcde\")\n",
        "output2 = p7.findTheDifference(\"\", \"y\")\n",
        "print(\"Output_1:\", output1)\n",
        "print(\"Output_2:\", output2)"
      ],
      "metadata": {
        "colab": {
          "base_uri": "https://localhost:8080/"
        },
        "id": "AhDw75F5RhfO",
        "outputId": "bef2bb13-bb3f-4ff0-8bcb-13ee57fa102b"
      },
      "execution_count": null,
      "outputs": [
        {
          "output_type": "stream",
          "name": "stdout",
          "text": [
            "Output_1: e\n",
            "Output_2: y\n"
          ]
        }
      ]
    },
    {
      "cell_type": "markdown",
      "metadata": {
        "id": "E_PhJOXAwLG6"
      },
      "source": [
        "Leetcode 442"
      ]
    },
    {
      "cell_type": "code",
      "execution_count": null,
      "metadata": {
        "id": "4tIC0A2xwLG6"
      },
      "outputs": [],
      "source": [
        "class Solution442:\n",
        "    def findDuplicates(self, nums) -> list:\n",
        "        \"\"\"\n",
        "        :type nums: List[int]\n",
        "        :rtype: List[int]\n",
        "        \"\"\"\n",
        "        if not nums:\n",
        "            return []\n",
        "\n",
        "        res= []\n",
        "        # initiallize the dictionary to store values\n",
        "        # we need to store both the value and counts for each number\n",
        "        hashmap = {}\n",
        "        for e in nums:\n",
        "            if e not in hashmap:\n",
        "                hashmap[e] = 1\n",
        "            else:\n",
        "                hashmap[e] += 1\n",
        "                if hashmap[e] == 2:\n",
        "                    res.append(e)\n",
        "        return res"
      ]
    },
    {
      "cell_type": "code",
      "source": [
        "p8= Solution442()\n",
        "output1 = p8.findDuplicates([4,3,2,7,8,2,3,1])\n",
        "output2 = p8.findDuplicates([1,1,2])\n",
        "output3 = p8.findDuplicates([1])\n",
        "print(\"Output_1:\", output1)\n",
        "print(\"Output_2:\", output2)\n",
        "print(\"Output_3:\", output3)"
      ],
      "metadata": {
        "colab": {
          "base_uri": "https://localhost:8080/"
        },
        "id": "WJnB8S2_ZX7c",
        "outputId": "d0bc2709-2799-4bc7-93ae-d87a240b897f"
      },
      "execution_count": null,
      "outputs": [
        {
          "output_type": "stream",
          "name": "stdout",
          "text": [
            "Output_1: [2, 3]\n",
            "Output_2: [1]\n",
            "Output_3: []\n"
          ]
        }
      ]
    },
    {
      "cell_type": "markdown",
      "metadata": {
        "id": "zV2ls0H-wLG6"
      },
      "source": [
        "Leetcode 448"
      ]
    },
    {
      "cell_type": "code",
      "execution_count": null,
      "metadata": {
        "id": "Wz0G6POewLG6"
      },
      "outputs": [],
      "source": [
        "class Solution448:\n",
        "    def findDisappearedNumbers(self, nums: list[int]) -> list:\n",
        "        \"\"\"\n",
        "        :type nums: List[int]\n",
        "        :rtype: List[int]\n",
        "        \"\"\"\n",
        "        #it seems like if only use set;it could pass the leetcode?\n",
        "        hashmap = {}\n",
        "        res = []\n",
        "        for e in nums:\n",
        "            if e not in hashmap:\n",
        "                hashmap[e] = 1\n",
        "            else:\n",
        "                hashmap[e] += 1\n",
        "\n",
        "        for i in range(1, len(nums) + 1):\n",
        "            if i not in hashmap:\n",
        "                res.append(i)\n",
        "        return res"
      ]
    },
    {
      "cell_type": "code",
      "source": [
        "p9= Solution448()\n",
        "output1 = p9.findDisappearedNumbers([4,3,2,7,8,2,3,1])\n",
        "output2 = p9.findDisappearedNumbers([1,1,2])\n",
        "output3 = p9.findDisappearedNumbers([1,1])\n",
        "print(\"Output_1:\", output1)\n",
        "print(\"Output_2:\", output2)\n",
        "print(\"Output_3:\", output3)"
      ],
      "metadata": {
        "colab": {
          "base_uri": "https://localhost:8080/"
        },
        "id": "5PCpT7iDcEeM",
        "outputId": "1beb5007-8343-4c0d-93d4-4bf19fc7cdcb"
      },
      "execution_count": null,
      "outputs": [
        {
          "output_type": "stream",
          "name": "stdout",
          "text": [
            "Output_1: [5, 6]\n",
            "Output_2: [3]\n",
            "Output_3: [2]\n"
          ]
        }
      ]
    },
    {
      "cell_type": "markdown",
      "metadata": {
        "id": "BJu2_OpHwLG6"
      },
      "source": [
        "Leetcode 575"
      ]
    },
    {
      "cell_type": "code",
      "execution_count": null,
      "metadata": {
        "id": "8T8AeYoHwLG6"
      },
      "outputs": [],
      "source": [
        "class Solution575:\n",
        "    def distributeCandies(self, candyType: list[int]) -> int:\n",
        "        \"\"\"\n",
        "        :type candyType: List[int] always even\n",
        "        :rtype: int\n",
        "        \"\"\"\n",
        "        num = len(candyType)//2\n",
        "        kinds = len(set(candyType))\n",
        "        return min(num, kinds)"
      ]
    },
    {
      "cell_type": "code",
      "source": [
        "p10= Solution575()\n",
        "output1 = p10.distributeCandies([1,1,2,2,3,3])\n",
        "output2 = p10.distributeCandies([1,1,2,3])\n",
        "output3 = p10.distributeCandies([6,6,6,6])\n",
        "print(\"Output_1:\", output1)\n",
        "print(\"Output_2:\", output2)\n",
        "print(\"Output_3:\", output3)"
      ],
      "metadata": {
        "colab": {
          "base_uri": "https://localhost:8080/"
        },
        "id": "fTVfsBkAehTA",
        "outputId": "f6099672-0257-4fcb-8a3a-91d2c6c34a7c"
      },
      "execution_count": null,
      "outputs": [
        {
          "output_type": "stream",
          "name": "stdout",
          "text": [
            "Output_1: 3\n",
            "Output_2: 2\n",
            "Output_3: 1\n"
          ]
        }
      ]
    }
  ],
  "metadata": {
    "kernelspec": {
      "display_name": "Python 3 (ipykernel)",
      "language": "python",
      "name": "python3"
    },
    "language_info": {
      "codemirror_mode": {
        "name": "ipython",
        "version": 3
      },
      "file_extension": ".py",
      "mimetype": "text/x-python",
      "name": "python",
      "nbconvert_exporter": "python",
      "pygments_lexer": "ipython3",
      "version": "3.8.8"
    },
    "colab": {
      "provenance": [],
      "include_colab_link": true
    }
  },
  "nbformat": 4,
  "nbformat_minor": 0
}